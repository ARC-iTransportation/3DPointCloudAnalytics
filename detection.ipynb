{
 "cells": [
  {
   "cell_type": "code",
   "execution_count": 3,
   "metadata": {},
   "outputs": [
    {
     "data": {
      "text/plain": [
       "'c:\\\\Users\\\\user\\\\Code\\\\detection'"
      ]
     },
     "execution_count": 3,
     "metadata": {},
     "output_type": "execute_result"
    }
   ],
   "source": [
    "%pwd"
   ]
  },
  {
   "cell_type": "markdown",
   "metadata": {},
   "source": [
    "### Visualize Raw Data"
   ]
  },
  {
   "cell_type": "code",
   "execution_count": 5,
   "metadata": {},
   "outputs": [
    {
     "data": {
      "application/vnd.jupyter.widget-view+json": {
       "model_id": "0420cb94387d4d3c8efa833d91666811",
       "version_major": 2,
       "version_minor": 0
      },
      "text/plain": [
       "Output()"
      ]
     },
     "metadata": {},
     "output_type": "display_data"
    }
   ],
   "source": [
    "import k3d\n",
    "import numpy as np\n",
    "\n",
    "with open (\"000013.bin\", \"rb\") as f:\n",
    "    scan = np.fromfile(f, dtype=np.float32)\n",
    "    scan = scan.reshape((-1, 4))\n",
    "\n",
    "plot = k3d.plot()\n",
    "plot +=k3d.points(scan[:,:3], point_size=0.02, attribute=scan[:,3], color_map=k3d.colormaps.basic_color_maps.Jet)\n",
    "plot.display()"
   ]
  },
  {
   "cell_type": "markdown",
   "metadata": {},
   "source": [
    "### Pre process step"
   ]
  },
  {
   "cell_type": "code",
   "execution_count": 9,
   "metadata": {},
   "outputs": [],
   "source": [
    "import numpy as np\n",
    "from sklearn.cluster import DBSCAN\n",
    "\n",
    "# Load the .bin file as a numpy array\n",
    "lidar_data = np.fromfile('000001.bin', dtype=np.float32).reshape(-1, 4)\n",
    "\n",
    "# Ground removal based on Z threshold\n",
    "ground_threshold = -1.5\n",
    "non_ground_points = lidar_data[lidar_data[:, 2] > ground_threshold]\n",
    "\n",
    "# Apply DBSCAN clustering to identify noise\n",
    "db = DBSCAN(eps=0.3, min_samples=10).fit(non_ground_points[:, :3])\n",
    "labels = db.labels_\n",
    "\n",
    "# Extract core samples (non-noise points)\n",
    "core_samples_mask = np.zeros_like(labels, dtype=bool)\n",
    "core_samples_mask[db.core_sample_indices_] = True\n",
    "filtered_points = non_ground_points[core_samples_mask]\n",
    "\n",
    "#Specifies the file path for output. A bin file with the specified name is generated under the filtered directory.\n",
    "output_path = './filtered/filtered_points.bin'\n",
    "filtered_points.tofile(output_path)"
   ]
  },
  {
   "cell_type": "markdown",
   "metadata": {},
   "source": [
    "### Preprocessed data"
   ]
  },
  {
   "cell_type": "code",
   "execution_count": 10,
   "metadata": {},
   "outputs": [
    {
     "data": {
      "application/vnd.jupyter.widget-view+json": {
       "model_id": "ffb1e5e4a0184f00b45ae78d23397c86",
       "version_major": 2,
       "version_minor": 0
      },
      "text/plain": [
       "Output()"
      ]
     },
     "metadata": {},
     "output_type": "display_data"
    }
   ],
   "source": [
    "import k3d\n",
    "import numpy as np\n",
    "\n",
    "with open (\"filtered/filtered_points.bin\", \"rb\") as f:\n",
    "    scan = np.fromfile(f, dtype=np.float32)\n",
    "    scan = scan.reshape((-1, 4))\n",
    "\n",
    "plot = k3d.plot()\n",
    "plot +=k3d.points(scan[:,:3], point_size=0.02, attribute=scan[:,3], color_map=k3d.colormaps.basic_color_maps.Jet)\n",
    "plot.display()"
   ]
  },
  {
   "cell_type": "markdown",
   "metadata": {},
   "source": [
    "### Install the mmdetection3d library from git.\n",
    "\n",
    "The mmdetection3d library is a library that provides models used for object detection in 3D point clouds.\n",
    "\n",
    "https://github.com/open-mmlab"
   ]
  },
  {
   "cell_type": "code",
   "execution_count": 11,
   "metadata": {},
   "outputs": [
    {
     "name": "stdout",
     "output_type": "stream",
     "text": [
      "Requirement already satisfied: openmim in c:\\users\\user\\appdata\\local\\programs\\python\\python39\\lib\\site-packages (0.3.9)\n",
      "Requirement already satisfied: Click in c:\\users\\user\\appdata\\local\\programs\\python\\python39\\lib\\site-packages (from openmim) (8.1.7)\n",
      "Requirement already satisfied: colorama in c:\\users\\user\\appdata\\roaming\\python\\python39\\site-packages (from openmim) (0.4.6)\n",
      "Requirement already satisfied: model-index in c:\\users\\user\\appdata\\local\\programs\\python\\python39\\lib\\site-packages (from openmim) (0.1.11)\n",
      "Requirement already satisfied: opendatalab in c:\\users\\user\\appdata\\local\\programs\\python\\python39\\lib\\site-packages (from openmim) (0.0.10)\n",
      "Requirement already satisfied: pandas in c:\\users\\user\\appdata\\local\\programs\\python\\python39\\lib\\site-packages (from openmim) (2.1.0)\n",
      "Requirement already satisfied: pip>=19.3 in c:\\users\\user\\appdata\\local\\programs\\python\\python39\\lib\\site-packages (from openmim) (23.2.1)\n",
      "Requirement already satisfied: requests in c:\\users\\user\\appdata\\local\\programs\\python\\python39\\lib\\site-packages (from openmim) (2.28.2)\n",
      "Requirement already satisfied: rich in c:\\users\\user\\appdata\\local\\programs\\python\\python39\\lib\\site-packages (from openmim) (13.4.2)\n",
      "Requirement already satisfied: tabulate in c:\\users\\user\\appdata\\local\\programs\\python\\python39\\lib\\site-packages (from openmim) (0.9.0)\n",
      "Requirement already satisfied: pyyaml in c:\\users\\user\\appdata\\local\\programs\\python\\python39\\lib\\site-packages (from model-index->openmim) (6.0.1)\n",
      "Requirement already satisfied: markdown in c:\\users\\user\\appdata\\local\\programs\\python\\python39\\lib\\site-packages (from model-index->openmim) (3.4.4)\n",
      "Requirement already satisfied: ordered-set in c:\\users\\user\\appdata\\local\\programs\\python\\python39\\lib\\site-packages (from model-index->openmim) (4.1.0)\n",
      "Requirement already satisfied: pycryptodome in c:\\users\\user\\appdata\\local\\programs\\python\\python39\\lib\\site-packages (from opendatalab->openmim) (3.18.0)\n",
      "Requirement already satisfied: tqdm in c:\\users\\user\\appdata\\local\\programs\\python\\python39\\lib\\site-packages (from opendatalab->openmim) (4.65.2)\n",
      "Requirement already satisfied: openxlab in c:\\users\\user\\appdata\\local\\programs\\python\\python39\\lib\\site-packages (from opendatalab->openmim) (0.0.24)\n",
      "Requirement already satisfied: pywin32 in c:\\users\\user\\appdata\\roaming\\python\\python39\\site-packages (from opendatalab->openmim) (306)\n",
      "Requirement already satisfied: charset-normalizer<4,>=2 in c:\\users\\user\\appdata\\local\\programs\\python\\python39\\lib\\site-packages (from requests->openmim) (2.1.1)\n",
      "Requirement already satisfied: idna<4,>=2.5 in c:\\users\\user\\appdata\\local\\programs\\python\\python39\\lib\\site-packages (from requests->openmim) (3.4)\n",
      "Requirement already satisfied: urllib3<1.27,>=1.21.1 in c:\\users\\user\\appdata\\local\\programs\\python\\python39\\lib\\site-packages (from requests->openmim) (1.26.13)\n",
      "Requirement already satisfied: certifi>=2017.4.17 in c:\\users\\user\\appdata\\local\\programs\\python\\python39\\lib\\site-packages (from requests->openmim) (2022.12.7)\n",
      "Requirement already satisfied: numpy>=1.22.4 in c:\\users\\user\\appdata\\local\\programs\\python\\python39\\lib\\site-packages (from pandas->openmim) (1.24.1)\n",
      "Requirement already satisfied: python-dateutil>=2.8.2 in c:\\users\\user\\appdata\\roaming\\python\\python39\\site-packages (from pandas->openmim) (2.8.2)\n",
      "Requirement already satisfied: pytz>=2020.1 in c:\\users\\user\\appdata\\local\\programs\\python\\python39\\lib\\site-packages (from pandas->openmim) (2023.3.post1)\n",
      "Requirement already satisfied: tzdata>=2022.1 in c:\\users\\user\\appdata\\local\\programs\\python\\python39\\lib\\site-packages (from pandas->openmim) (2023.3)\n",
      "Requirement already satisfied: markdown-it-py>=2.2.0 in c:\\users\\user\\appdata\\local\\programs\\python\\python39\\lib\\site-packages (from rich->openmim) (3.0.0)\n",
      "Requirement already satisfied: pygments<3.0.0,>=2.13.0 in c:\\users\\user\\appdata\\roaming\\python\\python39\\site-packages (from rich->openmim) (2.16.1)\n",
      "Requirement already satisfied: mdurl~=0.1 in c:\\users\\user\\appdata\\local\\programs\\python\\python39\\lib\\site-packages (from markdown-it-py>=2.2.0->rich->openmim) (0.1.2)\n",
      "Requirement already satisfied: six>=1.5 in c:\\users\\user\\appdata\\roaming\\python\\python39\\site-packages (from python-dateutil>=2.8.2->pandas->openmim) (1.16.0)\n",
      "Requirement already satisfied: importlib-metadata>=4.4 in c:\\users\\user\\appdata\\roaming\\python\\python39\\site-packages (from markdown->model-index->openmim) (6.8.0)\n",
      "Requirement already satisfied: oss2~=2.17.0 in c:\\users\\user\\appdata\\local\\programs\\python\\python39\\lib\\site-packages (from openxlab->opendatalab->openmim) (2.17.0)\n",
      "Requirement already satisfied: setuptools~=60.2.0 in c:\\users\\user\\appdata\\local\\programs\\python\\python39\\lib\\site-packages (from openxlab->opendatalab->openmim) (60.2.0)\n",
      "Requirement already satisfied: zipp>=0.5 in c:\\users\\user\\appdata\\roaming\\python\\python39\\site-packages (from importlib-metadata>=4.4->markdown->model-index->openmim) (3.16.2)\n",
      "Requirement already satisfied: crcmod>=1.7 in c:\\users\\user\\appdata\\local\\programs\\python\\python39\\lib\\site-packages (from oss2~=2.17.0->openxlab->opendatalab->openmim) (1.7)\n",
      "Requirement already satisfied: aliyun-python-sdk-kms>=2.4.1 in c:\\users\\user\\appdata\\local\\programs\\python\\python39\\lib\\site-packages (from oss2~=2.17.0->openxlab->opendatalab->openmim) (2.16.1)\n",
      "Requirement already satisfied: aliyun-python-sdk-core>=2.13.12 in c:\\users\\user\\appdata\\local\\programs\\python\\python39\\lib\\site-packages (from oss2~=2.17.0->openxlab->opendatalab->openmim) (2.13.36)\n",
      "Requirement already satisfied: jmespath<1.0.0,>=0.9.3 in c:\\users\\user\\appdata\\local\\programs\\python\\python39\\lib\\site-packages (from aliyun-python-sdk-core>=2.13.12->oss2~=2.17.0->openxlab->opendatalab->openmim) (0.10.0)\n",
      "Requirement already satisfied: cryptography>=2.6.0 in c:\\users\\user\\appdata\\local\\programs\\python\\python39\\lib\\site-packages (from aliyun-python-sdk-core>=2.13.12->oss2~=2.17.0->openxlab->opendatalab->openmim) (41.0.3)\n",
      "Requirement already satisfied: cffi>=1.12 in c:\\users\\user\\appdata\\local\\programs\\python\\python39\\lib\\site-packages (from cryptography>=2.6.0->aliyun-python-sdk-core>=2.13.12->oss2~=2.17.0->openxlab->opendatalab->openmim) (1.15.1)\n",
      "Requirement already satisfied: pycparser in c:\\users\\user\\appdata\\local\\programs\\python\\python39\\lib\\site-packages (from cffi>=1.12->cryptography>=2.6.0->aliyun-python-sdk-core>=2.13.12->oss2~=2.17.0->openxlab->opendatalab->openmim) (2.21)\n",
      "Looking in links: https://download.openmmlab.com/mmcv/dist/cu118/torch2.0.0/index.html\n",
      "Requirement already satisfied: mmcv-full==1.7.0 in c:\\users\\user\\appdata\\local\\programs\\python\\python39\\lib\\site-packages (1.7.0)\n",
      "Requirement already satisfied: addict in c:\\users\\user\\appdata\\local\\programs\\python\\python39\\lib\\site-packages (from mmcv-full==1.7.0) (2.4.0)\n",
      "Requirement already satisfied: numpy in c:\\users\\user\\appdata\\local\\programs\\python\\python39\\lib\\site-packages (from mmcv-full==1.7.0) (1.24.1)\n",
      "Requirement already satisfied: packaging in c:\\users\\user\\appdata\\roaming\\python\\python39\\site-packages (from mmcv-full==1.7.0) (23.1)\n",
      "Requirement already satisfied: Pillow in c:\\users\\user\\appdata\\local\\programs\\python\\python39\\lib\\site-packages (from mmcv-full==1.7.0) (9.3.0)\n",
      "Requirement already satisfied: pyyaml in c:\\users\\user\\appdata\\local\\programs\\python\\python39\\lib\\site-packages (from mmcv-full==1.7.0) (6.0.1)\n",
      "Requirement already satisfied: yapf in c:\\users\\user\\appdata\\local\\programs\\python\\python39\\lib\\site-packages (from mmcv-full==1.7.0) (0.40.1)\n",
      "Requirement already satisfied: regex in c:\\users\\user\\appdata\\local\\programs\\python\\python39\\lib\\site-packages (from mmcv-full==1.7.0) (2023.8.8)\n",
      "Requirement already satisfied: importlib-metadata>=6.6.0 in c:\\users\\user\\appdata\\roaming\\python\\python39\\site-packages (from yapf->mmcv-full==1.7.0) (6.8.0)\n",
      "Requirement already satisfied: platformdirs>=3.5.1 in c:\\users\\user\\appdata\\roaming\\python\\python39\\site-packages (from yapf->mmcv-full==1.7.0) (3.10.0)\n",
      "Requirement already satisfied: tomli>=2.0.1 in c:\\users\\user\\appdata\\local\\programs\\python\\python39\\lib\\site-packages (from yapf->mmcv-full==1.7.0) (2.0.1)\n",
      "Requirement already satisfied: zipp>=0.5 in c:\\users\\user\\appdata\\roaming\\python\\python39\\site-packages (from importlib-metadata>=6.6.0->yapf->mmcv-full==1.7.0) (3.16.2)\n",
      "Looking in links: https://download.openmmlab.com/mmcv/dist/cu118/torch2.0.0/index.html\n",
      "Requirement already satisfied: mmdet in c:\\users\\user\\appdata\\local\\programs\\python\\python39\\lib\\site-packages (3.1.0)\n",
      "Requirement already satisfied: matplotlib in c:\\users\\user\\appdata\\local\\programs\\python\\python39\\lib\\site-packages (from mmdet) (3.5.2)\n",
      "Requirement already satisfied: numpy in c:\\users\\user\\appdata\\local\\programs\\python\\python39\\lib\\site-packages (from mmdet) (1.24.1)\n",
      "Requirement already satisfied: pycocotools in c:\\users\\user\\appdata\\local\\programs\\python\\python39\\lib\\site-packages (from mmdet) (2.0.7)\n",
      "Requirement already satisfied: scipy in c:\\users\\user\\appdata\\local\\programs\\python\\python39\\lib\\site-packages (from mmdet) (1.11.2)\n",
      "Requirement already satisfied: shapely in c:\\users\\user\\appdata\\local\\programs\\python\\python39\\lib\\site-packages (from mmdet) (1.8.5)\n",
      "Requirement already satisfied: six in c:\\users\\user\\appdata\\roaming\\python\\python39\\site-packages (from mmdet) (1.16.0)\n",
      "Requirement already satisfied: terminaltables in c:\\users\\user\\appdata\\local\\programs\\python\\python39\\lib\\site-packages (from mmdet) (3.1.10)\n",
      "Requirement already satisfied: mmcv<2.1.0,>=2.0.0rc4 in c:\\users\\user\\appdata\\local\\programs\\python\\python39\\lib\\site-packages (from mmdet) (2.0.1)\n",
      "Requirement already satisfied: mmengine<1.0.0,>=0.7.1 in c:\\users\\user\\appdata\\local\\programs\\python\\python39\\lib\\site-packages (from mmdet) (0.8.4)\n",
      "Requirement already satisfied: addict in c:\\users\\user\\appdata\\local\\programs\\python\\python39\\lib\\site-packages (from mmcv<2.1.0,>=2.0.0rc4->mmdet) (2.4.0)\n",
      "Requirement already satisfied: packaging in c:\\users\\user\\appdata\\roaming\\python\\python39\\site-packages (from mmcv<2.1.0,>=2.0.0rc4->mmdet) (23.1)\n",
      "Requirement already satisfied: Pillow in c:\\users\\user\\appdata\\local\\programs\\python\\python39\\lib\\site-packages (from mmcv<2.1.0,>=2.0.0rc4->mmdet) (9.3.0)\n",
      "Requirement already satisfied: pyyaml in c:\\users\\user\\appdata\\local\\programs\\python\\python39\\lib\\site-packages (from mmcv<2.1.0,>=2.0.0rc4->mmdet) (6.0.1)\n",
      "Requirement already satisfied: yapf in c:\\users\\user\\appdata\\local\\programs\\python\\python39\\lib\\site-packages (from mmcv<2.1.0,>=2.0.0rc4->mmdet) (0.40.1)\n",
      "Requirement already satisfied: regex in c:\\users\\user\\appdata\\local\\programs\\python\\python39\\lib\\site-packages (from mmcv<2.1.0,>=2.0.0rc4->mmdet) (2023.8.8)\n",
      "Requirement already satisfied: rich in c:\\users\\user\\appdata\\local\\programs\\python\\python39\\lib\\site-packages (from mmengine<1.0.0,>=0.7.1->mmdet) (13.4.2)\n",
      "Requirement already satisfied: termcolor in c:\\users\\user\\appdata\\local\\programs\\python\\python39\\lib\\site-packages (from mmengine<1.0.0,>=0.7.1->mmdet) (2.3.0)\n",
      "Requirement already satisfied: opencv-python>=3 in c:\\users\\user\\appdata\\local\\programs\\python\\python39\\lib\\site-packages (from mmengine<1.0.0,>=0.7.1->mmdet) (4.8.0.76)\n",
      "Requirement already satisfied: cycler>=0.10 in c:\\users\\user\\appdata\\local\\programs\\python\\python39\\lib\\site-packages (from matplotlib->mmdet) (0.11.0)\n",
      "Requirement already satisfied: fonttools>=4.22.0 in c:\\users\\user\\appdata\\local\\programs\\python\\python39\\lib\\site-packages (from matplotlib->mmdet) (4.42.1)\n",
      "Requirement already satisfied: kiwisolver>=1.0.1 in c:\\users\\user\\appdata\\local\\programs\\python\\python39\\lib\\site-packages (from matplotlib->mmdet) (1.4.5)\n",
      "Requirement already satisfied: pyparsing>=2.2.1 in c:\\users\\user\\appdata\\local\\programs\\python\\python39\\lib\\site-packages (from matplotlib->mmdet) (3.0.9)\n",
      "Requirement already satisfied: python-dateutil>=2.7 in c:\\users\\user\\appdata\\roaming\\python\\python39\\site-packages (from matplotlib->mmdet) (2.8.2)\n",
      "Requirement already satisfied: markdown-it-py>=2.2.0 in c:\\users\\user\\appdata\\local\\programs\\python\\python39\\lib\\site-packages (from rich->mmengine<1.0.0,>=0.7.1->mmdet) (3.0.0)\n",
      "Requirement already satisfied: pygments<3.0.0,>=2.13.0 in c:\\users\\user\\appdata\\roaming\\python\\python39\\site-packages (from rich->mmengine<1.0.0,>=0.7.1->mmdet) (2.16.1)\n",
      "Requirement already satisfied: importlib-metadata>=6.6.0 in c:\\users\\user\\appdata\\roaming\\python\\python39\\site-packages (from yapf->mmcv<2.1.0,>=2.0.0rc4->mmdet) (6.8.0)\n",
      "Requirement already satisfied: platformdirs>=3.5.1 in c:\\users\\user\\appdata\\roaming\\python\\python39\\site-packages (from yapf->mmcv<2.1.0,>=2.0.0rc4->mmdet) (3.10.0)\n",
      "Requirement already satisfied: tomli>=2.0.1 in c:\\users\\user\\appdata\\local\\programs\\python\\python39\\lib\\site-packages (from yapf->mmcv<2.1.0,>=2.0.0rc4->mmdet) (2.0.1)\n",
      "Requirement already satisfied: zipp>=0.5 in c:\\users\\user\\appdata\\roaming\\python\\python39\\site-packages (from importlib-metadata>=6.6.0->yapf->mmcv<2.1.0,>=2.0.0rc4->mmdet) (3.16.2)\n",
      "Requirement already satisfied: mdurl~=0.1 in c:\\users\\user\\appdata\\local\\programs\\python\\python39\\lib\\site-packages (from markdown-it-py>=2.2.0->rich->mmengine<1.0.0,>=0.7.1->mmdet) (0.1.2)\n",
      "c:\\Users\\user\\Code\\detection\\mmsegmentation\n"
     ]
    },
    {
     "name": "stderr",
     "output_type": "stream",
     "text": [
      "Cloning into 'mmsegmentation'...\n",
      "Updating files:  60% (1035/1725)\n",
      "Updating files:  61% (1053/1725)\n",
      "Updating files:  62% (1070/1725)\n",
      "Updating files:  63% (1087/1725)\n",
      "Updating files:  64% (1104/1725)\n",
      "Updating files:  65% (1122/1725)\n",
      "Updating files:  66% (1139/1725)\n",
      "Updating files:  67% (1156/1725)\n",
      "Updating files:  68% (1173/1725)\n",
      "Updating files:  69% (1191/1725)\n",
      "Updating files:  70% (1208/1725)\n",
      "Updating files:  71% (1225/1725)\n",
      "Updating files:  72% (1242/1725)\n",
      "Updating files:  73% (1260/1725)\n",
      "Updating files:  74% (1277/1725)\n",
      "Updating files:  75% (1294/1725)\n",
      "Updating files:  76% (1311/1725)\n",
      "Updating files:  77% (1329/1725)\n",
      "Updating files:  78% (1346/1725)\n",
      "Updating files:  79% (1363/1725)\n",
      "Updating files:  80% (1380/1725)\n",
      "Updating files:  81% (1398/1725)\n",
      "Updating files:  82% (1415/1725)\n",
      "Updating files:  83% (1432/1725)\n",
      "Updating files:  84% (1449/1725)\n",
      "Updating files:  85% (1467/1725)\n",
      "Updating files:  86% (1484/1725)\n",
      "Updating files:  87% (1501/1725)\n",
      "Updating files:  88% (1518/1725)\n",
      "Updating files:  89% (1536/1725)\n",
      "Updating files:  90% (1553/1725)\n",
      "Updating files:  91% (1570/1725)\n",
      "Updating files:  92% (1587/1725)\n",
      "Updating files:  93% (1605/1725)\n",
      "Updating files:  94% (1622/1725)\n",
      "Updating files:  95% (1639/1725)\n",
      "Updating files:  96% (1656/1725)\n",
      "Updating files:  97% (1674/1725)\n",
      "Updating files:  98% (1691/1725)\n",
      "Updating files:  99% (1708/1725)\n",
      "Updating files:  99% (1724/1725)\n",
      "Updating files: 100% (1725/1725)\n",
      "Updating files: 100% (1725/1725), done.\n"
     ]
    },
    {
     "name": "stdout",
     "output_type": "stream",
     "text": [
      "Obtaining file:///C:/Users/user/Code/detection/mmsegmentation\n",
      "  Preparing metadata (setup.py): started\n",
      "  Preparing metadata (setup.py): finished with status 'done'\n",
      "Requirement already satisfied: matplotlib in c:\\users\\user\\appdata\\local\\programs\\python\\python39\\lib\\site-packages (from mmsegmentation==1.1.2) (3.5.2)\n",
      "Requirement already satisfied: numpy in c:\\users\\user\\appdata\\local\\programs\\python\\python39\\lib\\site-packages (from mmsegmentation==1.1.2) (1.24.1)\n",
      "Requirement already satisfied: packaging in c:\\users\\user\\appdata\\roaming\\python\\python39\\site-packages (from mmsegmentation==1.1.2) (23.1)\n",
      "Requirement already satisfied: prettytable in c:\\users\\user\\appdata\\local\\programs\\python\\python39\\lib\\site-packages (from mmsegmentation==1.1.2) (3.9.0)\n",
      "Requirement already satisfied: scipy in c:\\users\\user\\appdata\\local\\programs\\python\\python39\\lib\\site-packages (from mmsegmentation==1.1.2) (1.11.2)\n",
      "Requirement already satisfied: cycler>=0.10 in c:\\users\\user\\appdata\\local\\programs\\python\\python39\\lib\\site-packages (from matplotlib->mmsegmentation==1.1.2) (0.11.0)\n",
      "Requirement already satisfied: fonttools>=4.22.0 in c:\\users\\user\\appdata\\local\\programs\\python\\python39\\lib\\site-packages (from matplotlib->mmsegmentation==1.1.2) (4.42.1)\n",
      "Requirement already satisfied: kiwisolver>=1.0.1 in c:\\users\\user\\appdata\\local\\programs\\python\\python39\\lib\\site-packages (from matplotlib->mmsegmentation==1.1.2) (1.4.5)\n",
      "Requirement already satisfied: pillow>=6.2.0 in c:\\users\\user\\appdata\\local\\programs\\python\\python39\\lib\\site-packages (from matplotlib->mmsegmentation==1.1.2) (9.3.0)\n",
      "Requirement already satisfied: pyparsing>=2.2.1 in c:\\users\\user\\appdata\\local\\programs\\python\\python39\\lib\\site-packages (from matplotlib->mmsegmentation==1.1.2) (3.0.9)\n",
      "Requirement already satisfied: python-dateutil>=2.7 in c:\\users\\user\\appdata\\roaming\\python\\python39\\site-packages (from matplotlib->mmsegmentation==1.1.2) (2.8.2)\n",
      "Requirement already satisfied: wcwidth in c:\\users\\user\\appdata\\roaming\\python\\python39\\site-packages (from prettytable->mmsegmentation==1.1.2) (0.2.6)\n",
      "Requirement already satisfied: six>=1.5 in c:\\users\\user\\appdata\\roaming\\python\\python39\\site-packages (from python-dateutil>=2.7->matplotlib->mmsegmentation==1.1.2) (1.16.0)\n",
      "Installing collected packages: mmsegmentation\n",
      "  Attempting uninstall: mmsegmentation\n",
      "    Found existing installation: mmsegmentation 1.1.2\n",
      "    Uninstalling mmsegmentation-1.1.2:\n",
      "      Successfully uninstalled mmsegmentation-1.1.2\n",
      "  Running setup.py develop for mmsegmentation\n",
      "Successfully installed mmsegmentation\n",
      "c:\\Users\\user\\Code\\detection\n",
      "c:\\Users\\user\\Code\\detection\\mmdetection3d\n"
     ]
    },
    {
     "name": "stderr",
     "output_type": "stream",
     "text": [
      "Cloning into 'mmdetection3d'...\n",
      "Updating files:  73% (832/1129)\n",
      "Updating files:  74% (836/1129)\n",
      "Updating files:  75% (847/1129)\n",
      "Updating files:  76% (859/1129)\n",
      "Updating files:  77% (870/1129)\n",
      "Updating files:  78% (881/1129)\n",
      "Updating files:  79% (892/1129)\n",
      "Updating files:  80% (904/1129)\n",
      "Updating files:  81% (915/1129)\n",
      "Updating files:  82% (926/1129)\n",
      "Updating files:  83% (938/1129)\n",
      "Updating files:  84% (949/1129)\n",
      "Updating files:  85% (960/1129)\n",
      "Updating files:  86% (971/1129)\n",
      "Updating files:  87% (983/1129)\n",
      "Updating files:  88% (994/1129)\n",
      "Updating files:  89% (1005/1129)\n",
      "Updating files:  90% (1017/1129)\n",
      "Updating files:  91% (1028/1129)\n",
      "Updating files:  92% (1039/1129)\n",
      "Updating files:  93% (1050/1129)\n",
      "Updating files:  94% (1062/1129)\n",
      "Updating files:  95% (1073/1129)\n",
      "Updating files:  96% (1084/1129)\n",
      "Updating files:  97% (1096/1129)\n",
      "Updating files:  98% (1107/1129)\n",
      "Updating files:  99% (1118/1129)\n",
      "Updating files: 100% (1129/1129)\n",
      "Updating files: 100% (1129/1129), done.\n"
     ]
    },
    {
     "name": "stdout",
     "output_type": "stream",
     "text": [
      "Obtaining file:///C:/Users/user/Code/detection/mmdetection3d\n",
      "  Preparing metadata (setup.py): started\n",
      "  Preparing metadata (setup.py): finished with status 'done'\n",
      "Requirement already satisfied: lyft_dataset_sdk in c:\\users\\user\\appdata\\local\\programs\\python\\python39\\lib\\site-packages (from mmdet3d==1.2.0) (0.0.8)\n",
      "Requirement already satisfied: networkx>=2.5 in c:\\users\\user\\appdata\\local\\programs\\python\\python39\\lib\\site-packages (from mmdet3d==1.2.0) (3.1)\n",
      "Requirement already satisfied: numba in c:\\users\\user\\appdata\\local\\programs\\python\\python39\\lib\\site-packages (from mmdet3d==1.2.0) (0.57.1)\n",
      "Requirement already satisfied: numpy in c:\\users\\user\\appdata\\local\\programs\\python\\python39\\lib\\site-packages (from mmdet3d==1.2.0) (1.24.1)\n",
      "Requirement already satisfied: nuscenes-devkit in c:\\users\\user\\appdata\\local\\programs\\python\\python39\\lib\\site-packages (from mmdet3d==1.2.0) (1.1.10)\n",
      "Requirement already satisfied: open3d==0.16.0 in c:\\users\\user\\appdata\\local\\programs\\python\\python39\\lib\\site-packages (from mmdet3d==1.2.0) (0.16.0)\n",
      "Requirement already satisfied: plyfile in c:\\users\\user\\appdata\\local\\programs\\python\\python39\\lib\\site-packages (from mmdet3d==1.2.0) (1.0.1)\n",
      "Requirement already satisfied: scikit-image in c:\\users\\user\\appdata\\local\\programs\\python\\python39\\lib\\site-packages (from mmdet3d==1.2.0) (0.19.3)\n",
      "Requirement already satisfied: tensorboard in c:\\users\\user\\appdata\\local\\programs\\python\\python39\\lib\\site-packages (from mmdet3d==1.2.0) (2.14.0)\n",
      "Requirement already satisfied: trimesh in c:\\users\\user\\appdata\\local\\programs\\python\\python39\\lib\\site-packages (from mmdet3d==1.2.0) (2.35.39)\n",
      "Requirement already satisfied: dash>=2.6.0 in c:\\users\\user\\appdata\\local\\programs\\python\\python39\\lib\\site-packages (from open3d==0.16.0->mmdet3d==1.2.0) (2.13.0)\n",
      "Requirement already satisfied: nbformat==5.5.0 in c:\\users\\user\\appdata\\local\\programs\\python\\python39\\lib\\site-packages (from open3d==0.16.0->mmdet3d==1.2.0) (5.5.0)\n",
      "Requirement already satisfied: configargparse in c:\\users\\user\\appdata\\local\\programs\\python\\python39\\lib\\site-packages (from open3d==0.16.0->mmdet3d==1.2.0) (1.7)\n",
      "Requirement already satisfied: ipywidgets>=7.6.0 in c:\\users\\user\\appdata\\local\\programs\\python\\python39\\lib\\site-packages (from open3d==0.16.0->mmdet3d==1.2.0) (8.1.0)\n",
      "Requirement already satisfied: fastjsonschema in c:\\users\\user\\appdata\\local\\programs\\python\\python39\\lib\\site-packages (from nbformat==5.5.0->open3d==0.16.0->mmdet3d==1.2.0) (2.18.0)\n",
      "Requirement already satisfied: jsonschema>=2.6 in c:\\users\\user\\appdata\\local\\programs\\python\\python39\\lib\\site-packages (from nbformat==5.5.0->open3d==0.16.0->mmdet3d==1.2.0) (4.19.0)\n",
      "Requirement already satisfied: jupyter_core in c:\\users\\user\\appdata\\roaming\\python\\python39\\site-packages (from nbformat==5.5.0->open3d==0.16.0->mmdet3d==1.2.0) (5.3.1)\n",
      "Requirement already satisfied: traitlets>=5.1 in c:\\users\\user\\appdata\\roaming\\python\\python39\\site-packages (from nbformat==5.5.0->open3d==0.16.0->mmdet3d==1.2.0) (5.9.0)\n",
      "Requirement already satisfied: flake8 in c:\\users\\user\\appdata\\local\\programs\\python\\python39\\lib\\site-packages (from lyft_dataset_sdk->mmdet3d==1.2.0) (6.1.0)\n",
      "Requirement already satisfied: opencv-python>=3.4.2.17 in c:\\users\\user\\appdata\\local\\programs\\python\\python39\\lib\\site-packages (from lyft_dataset_sdk->mmdet3d==1.2.0) (4.8.0.76)\n",
      "Requirement already satisfied: Pillow>=5.2.0 in c:\\users\\user\\appdata\\local\\programs\\python\\python39\\lib\\site-packages (from lyft_dataset_sdk->mmdet3d==1.2.0) (9.3.0)\n",
      "Requirement already satisfied: pyquaternion>=0.9.5 in c:\\users\\user\\appdata\\local\\programs\\python\\python39\\lib\\site-packages (from lyft_dataset_sdk->mmdet3d==1.2.0) (0.9.9)\n",
      "Requirement already satisfied: scikit-learn>=0.19.2 in c:\\users\\user\\appdata\\local\\programs\\python\\python39\\lib\\site-packages (from lyft_dataset_sdk->mmdet3d==1.2.0) (1.3.0)\n",
      "Requirement already satisfied: tqdm>=4.25.0 in c:\\users\\user\\appdata\\local\\programs\\python\\python39\\lib\\site-packages (from lyft_dataset_sdk->mmdet3d==1.2.0) (4.65.2)\n",
      "Requirement already satisfied: scipy>=1.1.0 in c:\\users\\user\\appdata\\local\\programs\\python\\python39\\lib\\site-packages (from lyft_dataset_sdk->mmdet3d==1.2.0) (1.11.2)\n",
      "Requirement already satisfied: cachetools>=3.1.0 in c:\\users\\user\\appdata\\local\\programs\\python\\python39\\lib\\site-packages (from lyft_dataset_sdk->mmdet3d==1.2.0) (5.3.1)\n",
      "Requirement already satisfied: Shapely>=1.6.4.post2 in c:\\users\\user\\appdata\\local\\programs\\python\\python39\\lib\\site-packages (from lyft_dataset_sdk->mmdet3d==1.2.0) (1.8.5)\n",
      "Requirement already satisfied: fire in c:\\users\\user\\appdata\\local\\programs\\python\\python39\\lib\\site-packages (from lyft_dataset_sdk->mmdet3d==1.2.0) (0.5.0)\n",
      "Requirement already satisfied: pytest in c:\\users\\user\\appdata\\local\\programs\\python\\python39\\lib\\site-packages (from lyft_dataset_sdk->mmdet3d==1.2.0) (7.4.2)\n",
      "Requirement already satisfied: black in c:\\users\\user\\appdata\\local\\programs\\python\\python39\\lib\\site-packages (from lyft_dataset_sdk->mmdet3d==1.2.0) (23.9.1)\n",
      "Requirement already satisfied: matplotlib in c:\\users\\user\\appdata\\local\\programs\\python\\python39\\lib\\site-packages (from lyft_dataset_sdk->mmdet3d==1.2.0) (3.5.2)\n",
      "Requirement already satisfied: pandas in c:\\users\\user\\appdata\\local\\programs\\python\\python39\\lib\\site-packages (from lyft_dataset_sdk->mmdet3d==1.2.0) (2.1.0)\n",
      "Requirement already satisfied: plotly in c:\\users\\user\\appdata\\local\\programs\\python\\python39\\lib\\site-packages (from lyft_dataset_sdk->mmdet3d==1.2.0) (5.16.1)\n",
      "Requirement already satisfied: llvmlite<0.41,>=0.40.0dev0 in c:\\users\\user\\appdata\\local\\programs\\python\\python39\\lib\\site-packages (from numba->mmdet3d==1.2.0) (0.40.1)\n",
      "Requirement already satisfied: descartes in c:\\users\\user\\appdata\\local\\programs\\python\\python39\\lib\\site-packages (from nuscenes-devkit->mmdet3d==1.2.0) (1.1.0)\n",
      "Requirement already satisfied: jupyter in c:\\users\\user\\appdata\\local\\programs\\python\\python39\\lib\\site-packages (from nuscenes-devkit->mmdet3d==1.2.0) (1.0.0)\n",
      "Requirement already satisfied: pycocotools>=2.0.1 in c:\\users\\user\\appdata\\local\\programs\\python\\python39\\lib\\site-packages (from nuscenes-devkit->mmdet3d==1.2.0) (2.0.7)\n",
      "Requirement already satisfied: imageio>=2.4.1 in c:\\users\\user\\appdata\\local\\programs\\python\\python39\\lib\\site-packages (from scikit-image->mmdet3d==1.2.0) (2.31.3)\n",
      "Requirement already satisfied: tifffile>=2019.7.26 in c:\\users\\user\\appdata\\local\\programs\\python\\python39\\lib\\site-packages (from scikit-image->mmdet3d==1.2.0) (2023.8.30)\n",
      "Requirement already satisfied: PyWavelets>=1.1.1 in c:\\users\\user\\appdata\\local\\programs\\python\\python39\\lib\\site-packages (from scikit-image->mmdet3d==1.2.0) (1.4.1)\n",
      "Requirement already satisfied: packaging>=20.0 in c:\\users\\user\\appdata\\roaming\\python\\python39\\site-packages (from scikit-image->mmdet3d==1.2.0) (23.1)\n",
      "Requirement already satisfied: absl-py>=0.4 in c:\\users\\user\\appdata\\local\\programs\\python\\python39\\lib\\site-packages (from tensorboard->mmdet3d==1.2.0) (1.4.0)\n",
      "Requirement already satisfied: grpcio>=1.48.2 in c:\\users\\user\\appdata\\local\\programs\\python\\python39\\lib\\site-packages (from tensorboard->mmdet3d==1.2.0) (1.58.0)\n",
      "Requirement already satisfied: google-auth<3,>=1.6.3 in c:\\users\\user\\appdata\\local\\programs\\python\\python39\\lib\\site-packages (from tensorboard->mmdet3d==1.2.0) (2.22.0)\n",
      "Requirement already satisfied: google-auth-oauthlib<1.1,>=0.5 in c:\\users\\user\\appdata\\local\\programs\\python\\python39\\lib\\site-packages (from tensorboard->mmdet3d==1.2.0) (1.0.0)\n",
      "Requirement already satisfied: markdown>=2.6.8 in c:\\users\\user\\appdata\\local\\programs\\python\\python39\\lib\\site-packages (from tensorboard->mmdet3d==1.2.0) (3.4.4)\n",
      "Requirement already satisfied: protobuf>=3.19.6 in c:\\users\\user\\appdata\\local\\programs\\python\\python39\\lib\\site-packages (from tensorboard->mmdet3d==1.2.0) (4.24.3)\n",
      "Requirement already satisfied: requests<3,>=2.21.0 in c:\\users\\user\\appdata\\local\\programs\\python\\python39\\lib\\site-packages (from tensorboard->mmdet3d==1.2.0) (2.28.2)\n",
      "Requirement already satisfied: setuptools>=41.0.0 in c:\\users\\user\\appdata\\local\\programs\\python\\python39\\lib\\site-packages (from tensorboard->mmdet3d==1.2.0) (60.2.0)\n",
      "Requirement already satisfied: tensorboard-data-server<0.8.0,>=0.7.0 in c:\\users\\user\\appdata\\local\\programs\\python\\python39\\lib\\site-packages (from tensorboard->mmdet3d==1.2.0) (0.7.1)\n",
      "Requirement already satisfied: werkzeug>=1.0.1 in c:\\users\\user\\appdata\\local\\programs\\python\\python39\\lib\\site-packages (from tensorboard->mmdet3d==1.2.0) (2.2.3)\n",
      "Requirement already satisfied: wheel>=0.26 in c:\\users\\user\\appdata\\local\\programs\\python\\python39\\lib\\site-packages (from tensorboard->mmdet3d==1.2.0) (0.41.2)\n",
      "Requirement already satisfied: Flask<2.3.0,>=1.0.4 in c:\\users\\user\\appdata\\local\\programs\\python\\python39\\lib\\site-packages (from dash>=2.6.0->open3d==0.16.0->mmdet3d==1.2.0) (2.2.5)\n",
      "Requirement already satisfied: dash-html-components==2.0.0 in c:\\users\\user\\appdata\\local\\programs\\python\\python39\\lib\\site-packages (from dash>=2.6.0->open3d==0.16.0->mmdet3d==1.2.0) (2.0.0)\n",
      "Requirement already satisfied: dash-core-components==2.0.0 in c:\\users\\user\\appdata\\local\\programs\\python\\python39\\lib\\site-packages (from dash>=2.6.0->open3d==0.16.0->mmdet3d==1.2.0) (2.0.0)\n",
      "Requirement already satisfied: dash-table==5.0.0 in c:\\users\\user\\appdata\\local\\programs\\python\\python39\\lib\\site-packages (from dash>=2.6.0->open3d==0.16.0->mmdet3d==1.2.0) (5.0.0)\n",
      "Requirement already satisfied: typing-extensions>=4.1.1 in c:\\users\\user\\appdata\\roaming\\python\\python39\\site-packages (from dash>=2.6.0->open3d==0.16.0->mmdet3d==1.2.0) (4.7.1)\n",
      "Requirement already satisfied: retrying in c:\\users\\user\\appdata\\local\\programs\\python\\python39\\lib\\site-packages (from dash>=2.6.0->open3d==0.16.0->mmdet3d==1.2.0) (1.3.4)\n",
      "Requirement already satisfied: ansi2html in c:\\users\\user\\appdata\\local\\programs\\python\\python39\\lib\\site-packages (from dash>=2.6.0->open3d==0.16.0->mmdet3d==1.2.0) (1.8.0)\n",
      "Requirement already satisfied: nest-asyncio in c:\\users\\user\\appdata\\roaming\\python\\python39\\site-packages (from dash>=2.6.0->open3d==0.16.0->mmdet3d==1.2.0) (1.5.7)\n",
      "Requirement already satisfied: pyasn1-modules>=0.2.1 in c:\\users\\user\\appdata\\local\\programs\\python\\python39\\lib\\site-packages (from google-auth<3,>=1.6.3->tensorboard->mmdet3d==1.2.0) (0.3.0)\n",
      "Requirement already satisfied: rsa<5,>=3.1.4 in c:\\users\\user\\appdata\\local\\programs\\python\\python39\\lib\\site-packages (from google-auth<3,>=1.6.3->tensorboard->mmdet3d==1.2.0) (4.9)\n",
      "Requirement already satisfied: six>=1.9.0 in c:\\users\\user\\appdata\\roaming\\python\\python39\\site-packages (from google-auth<3,>=1.6.3->tensorboard->mmdet3d==1.2.0) (1.16.0)\n",
      "Requirement already satisfied: urllib3<2.0 in c:\\users\\user\\appdata\\local\\programs\\python\\python39\\lib\\site-packages (from google-auth<3,>=1.6.3->tensorboard->mmdet3d==1.2.0) (1.26.13)\n",
      "Requirement already satisfied: requests-oauthlib>=0.7.0 in c:\\users\\user\\appdata\\local\\programs\\python\\python39\\lib\\site-packages (from google-auth-oauthlib<1.1,>=0.5->tensorboard->mmdet3d==1.2.0) (1.3.1)\n",
      "Requirement already satisfied: comm>=0.1.3 in c:\\users\\user\\appdata\\roaming\\python\\python39\\site-packages (from ipywidgets>=7.6.0->open3d==0.16.0->mmdet3d==1.2.0) (0.1.4)\n",
      "Requirement already satisfied: ipython>=6.1.0 in c:\\users\\user\\appdata\\roaming\\python\\python39\\site-packages (from ipywidgets>=7.6.0->open3d==0.16.0->mmdet3d==1.2.0) (8.15.0)\n",
      "Requirement already satisfied: widgetsnbextension~=4.0.7 in c:\\users\\user\\appdata\\local\\programs\\python\\python39\\lib\\site-packages (from ipywidgets>=7.6.0->open3d==0.16.0->mmdet3d==1.2.0) (4.0.8)\n",
      "Requirement already satisfied: jupyterlab-widgets~=3.0.7 in c:\\users\\user\\appdata\\local\\programs\\python\\python39\\lib\\site-packages (from ipywidgets>=7.6.0->open3d==0.16.0->mmdet3d==1.2.0) (3.0.8)\n",
      "Requirement already satisfied: importlib-metadata>=4.4 in c:\\users\\user\\appdata\\roaming\\python\\python39\\site-packages (from markdown>=2.6.8->tensorboard->mmdet3d==1.2.0) (6.8.0)\n",
      "Requirement already satisfied: cycler>=0.10 in c:\\users\\user\\appdata\\local\\programs\\python\\python39\\lib\\site-packages (from matplotlib->lyft_dataset_sdk->mmdet3d==1.2.0) (0.11.0)\n",
      "Requirement already satisfied: fonttools>=4.22.0 in c:\\users\\user\\appdata\\local\\programs\\python\\python39\\lib\\site-packages (from matplotlib->lyft_dataset_sdk->mmdet3d==1.2.0) (4.42.1)\n",
      "Requirement already satisfied: kiwisolver>=1.0.1 in c:\\users\\user\\appdata\\local\\programs\\python\\python39\\lib\\site-packages (from matplotlib->lyft_dataset_sdk->mmdet3d==1.2.0) (1.4.5)\n",
      "Requirement already satisfied: pyparsing>=2.2.1 in c:\\users\\user\\appdata\\local\\programs\\python\\python39\\lib\\site-packages (from matplotlib->lyft_dataset_sdk->mmdet3d==1.2.0) (3.0.9)\n",
      "Requirement already satisfied: python-dateutil>=2.7 in c:\\users\\user\\appdata\\roaming\\python\\python39\\site-packages (from matplotlib->lyft_dataset_sdk->mmdet3d==1.2.0) (2.8.2)\n",
      "Requirement already satisfied: tenacity>=6.2.0 in c:\\users\\user\\appdata\\local\\programs\\python\\python39\\lib\\site-packages (from plotly->lyft_dataset_sdk->mmdet3d==1.2.0) (8.2.3)\n",
      "Requirement already satisfied: charset-normalizer<4,>=2 in c:\\users\\user\\appdata\\local\\programs\\python\\python39\\lib\\site-packages (from requests<3,>=2.21.0->tensorboard->mmdet3d==1.2.0) (2.1.1)\n",
      "Requirement already satisfied: idna<4,>=2.5 in c:\\users\\user\\appdata\\local\\programs\\python\\python39\\lib\\site-packages (from requests<3,>=2.21.0->tensorboard->mmdet3d==1.2.0) (3.4)\n",
      "Requirement already satisfied: certifi>=2017.4.17 in c:\\users\\user\\appdata\\local\\programs\\python\\python39\\lib\\site-packages (from requests<3,>=2.21.0->tensorboard->mmdet3d==1.2.0) (2022.12.7)\n",
      "Requirement already satisfied: joblib>=1.1.1 in c:\\users\\user\\appdata\\local\\programs\\python\\python39\\lib\\site-packages (from scikit-learn>=0.19.2->lyft_dataset_sdk->mmdet3d==1.2.0) (1.3.2)\n",
      "Requirement already satisfied: threadpoolctl>=2.0.0 in c:\\users\\user\\appdata\\local\\programs\\python\\python39\\lib\\site-packages (from scikit-learn>=0.19.2->lyft_dataset_sdk->mmdet3d==1.2.0) (3.2.0)\n",
      "Requirement already satisfied: colorama in c:\\users\\user\\appdata\\roaming\\python\\python39\\site-packages (from tqdm>=4.25.0->lyft_dataset_sdk->mmdet3d==1.2.0) (0.4.6)\n",
      "Requirement already satisfied: MarkupSafe>=2.1.1 in c:\\users\\user\\appdata\\local\\programs\\python\\python39\\lib\\site-packages (from werkzeug>=1.0.1->tensorboard->mmdet3d==1.2.0) (2.1.2)\n",
      "Requirement already satisfied: click>=8.0.0 in c:\\users\\user\\appdata\\local\\programs\\python\\python39\\lib\\site-packages (from black->lyft_dataset_sdk->mmdet3d==1.2.0) (8.1.7)\n",
      "Requirement already satisfied: mypy-extensions>=0.4.3 in c:\\users\\user\\appdata\\local\\programs\\python\\python39\\lib\\site-packages (from black->lyft_dataset_sdk->mmdet3d==1.2.0) (1.0.0)\n",
      "Requirement already satisfied: pathspec>=0.9.0 in c:\\users\\user\\appdata\\local\\programs\\python\\python39\\lib\\site-packages (from black->lyft_dataset_sdk->mmdet3d==1.2.0) (0.11.2)\n",
      "Requirement already satisfied: platformdirs>=2 in c:\\users\\user\\appdata\\roaming\\python\\python39\\site-packages (from black->lyft_dataset_sdk->mmdet3d==1.2.0) (3.10.0)\n",
      "Requirement already satisfied: tomli>=1.1.0 in c:\\users\\user\\appdata\\local\\programs\\python\\python39\\lib\\site-packages (from black->lyft_dataset_sdk->mmdet3d==1.2.0) (2.0.1)\n",
      "Requirement already satisfied: termcolor in c:\\users\\user\\appdata\\local\\programs\\python\\python39\\lib\\site-packages (from fire->lyft_dataset_sdk->mmdet3d==1.2.0) (2.3.0)\n",
      "Requirement already satisfied: mccabe<0.8.0,>=0.7.0 in c:\\users\\user\\appdata\\local\\programs\\python\\python39\\lib\\site-packages (from flake8->lyft_dataset_sdk->mmdet3d==1.2.0) (0.7.0)\n",
      "Requirement already satisfied: pycodestyle<2.12.0,>=2.11.0 in c:\\users\\user\\appdata\\local\\programs\\python\\python39\\lib\\site-packages (from flake8->lyft_dataset_sdk->mmdet3d==1.2.0) (2.11.0)\n",
      "Requirement already satisfied: pyflakes<3.2.0,>=3.1.0 in c:\\users\\user\\appdata\\local\\programs\\python\\python39\\lib\\site-packages (from flake8->lyft_dataset_sdk->mmdet3d==1.2.0) (3.1.0)\n",
      "Requirement already satisfied: notebook in c:\\users\\user\\appdata\\local\\programs\\python\\python39\\lib\\site-packages (from jupyter->nuscenes-devkit->mmdet3d==1.2.0) (7.0.3)\n",
      "Requirement already satisfied: qtconsole in c:\\users\\user\\appdata\\local\\programs\\python\\python39\\lib\\site-packages (from jupyter->nuscenes-devkit->mmdet3d==1.2.0) (5.4.4)\n",
      "Requirement already satisfied: jupyter-console in c:\\users\\user\\appdata\\local\\programs\\python\\python39\\lib\\site-packages (from jupyter->nuscenes-devkit->mmdet3d==1.2.0) (6.6.3)\n",
      "Requirement already satisfied: nbconvert in c:\\users\\user\\appdata\\local\\programs\\python\\python39\\lib\\site-packages (from jupyter->nuscenes-devkit->mmdet3d==1.2.0) (7.4.0)\n",
      "Requirement already satisfied: ipykernel in c:\\users\\user\\appdata\\roaming\\python\\python39\\site-packages (from jupyter->nuscenes-devkit->mmdet3d==1.2.0) (6.25.2)\n",
      "Requirement already satisfied: pytz>=2020.1 in c:\\users\\user\\appdata\\local\\programs\\python\\python39\\lib\\site-packages (from pandas->lyft_dataset_sdk->mmdet3d==1.2.0) (2023.3.post1)\n",
      "Requirement already satisfied: tzdata>=2022.1 in c:\\users\\user\\appdata\\local\\programs\\python\\python39\\lib\\site-packages (from pandas->lyft_dataset_sdk->mmdet3d==1.2.0) (2023.3)\n",
      "Requirement already satisfied: iniconfig in c:\\users\\user\\appdata\\local\\programs\\python\\python39\\lib\\site-packages (from pytest->lyft_dataset_sdk->mmdet3d==1.2.0) (2.0.0)\n",
      "Requirement already satisfied: pluggy<2.0,>=0.12 in c:\\users\\user\\appdata\\local\\programs\\python\\python39\\lib\\site-packages (from pytest->lyft_dataset_sdk->mmdet3d==1.2.0) (1.3.0)\n",
      "Requirement already satisfied: exceptiongroup>=1.0.0rc8 in c:\\users\\user\\appdata\\roaming\\python\\python39\\site-packages (from pytest->lyft_dataset_sdk->mmdet3d==1.2.0) (1.1.3)\n",
      "Requirement already satisfied: Jinja2>=3.0 in c:\\users\\user\\appdata\\local\\programs\\python\\python39\\lib\\site-packages (from Flask<2.3.0,>=1.0.4->dash>=2.6.0->open3d==0.16.0->mmdet3d==1.2.0) (3.1.2)\n",
      "Requirement already satisfied: itsdangerous>=2.0 in c:\\users\\user\\appdata\\local\\programs\\python\\python39\\lib\\site-packages (from Flask<2.3.0,>=1.0.4->dash>=2.6.0->open3d==0.16.0->mmdet3d==1.2.0) (2.1.2)\n",
      "Requirement already satisfied: zipp>=0.5 in c:\\users\\user\\appdata\\roaming\\python\\python39\\site-packages (from importlib-metadata>=4.4->markdown>=2.6.8->tensorboard->mmdet3d==1.2.0) (3.16.2)\n",
      "Requirement already satisfied: backcall in c:\\users\\user\\appdata\\roaming\\python\\python39\\site-packages (from ipython>=6.1.0->ipywidgets>=7.6.0->open3d==0.16.0->mmdet3d==1.2.0) (0.2.0)\n",
      "Requirement already satisfied: decorator in c:\\users\\user\\appdata\\roaming\\python\\python39\\site-packages (from ipython>=6.1.0->ipywidgets>=7.6.0->open3d==0.16.0->mmdet3d==1.2.0) (5.1.1)\n",
      "Requirement already satisfied: jedi>=0.16 in c:\\users\\user\\appdata\\roaming\\python\\python39\\site-packages (from ipython>=6.1.0->ipywidgets>=7.6.0->open3d==0.16.0->mmdet3d==1.2.0) (0.19.0)\n",
      "Requirement already satisfied: matplotlib-inline in c:\\users\\user\\appdata\\roaming\\python\\python39\\site-packages (from ipython>=6.1.0->ipywidgets>=7.6.0->open3d==0.16.0->mmdet3d==1.2.0) (0.1.6)\n",
      "Requirement already satisfied: pickleshare in c:\\users\\user\\appdata\\roaming\\python\\python39\\site-packages (from ipython>=6.1.0->ipywidgets>=7.6.0->open3d==0.16.0->mmdet3d==1.2.0) (0.7.5)\n",
      "Requirement already satisfied: prompt-toolkit!=3.0.37,<3.1.0,>=3.0.30 in c:\\users\\user\\appdata\\roaming\\python\\python39\\site-packages (from ipython>=6.1.0->ipywidgets>=7.6.0->open3d==0.16.0->mmdet3d==1.2.0) (3.0.39)\n",
      "Requirement already satisfied: pygments>=2.4.0 in c:\\users\\user\\appdata\\roaming\\python\\python39\\site-packages (from ipython>=6.1.0->ipywidgets>=7.6.0->open3d==0.16.0->mmdet3d==1.2.0) (2.16.1)\n",
      "Requirement already satisfied: stack-data in c:\\users\\user\\appdata\\roaming\\python\\python39\\site-packages (from ipython>=6.1.0->ipywidgets>=7.6.0->open3d==0.16.0->mmdet3d==1.2.0) (0.6.2)\n",
      "Requirement already satisfied: attrs>=22.2.0 in c:\\users\\user\\appdata\\local\\programs\\python\\python39\\lib\\site-packages (from jsonschema>=2.6->nbformat==5.5.0->open3d==0.16.0->mmdet3d==1.2.0) (23.1.0)\n",
      "Requirement already satisfied: jsonschema-specifications>=2023.03.6 in c:\\users\\user\\appdata\\local\\programs\\python\\python39\\lib\\site-packages (from jsonschema>=2.6->nbformat==5.5.0->open3d==0.16.0->mmdet3d==1.2.0) (2023.7.1)\n",
      "Requirement already satisfied: referencing>=0.28.4 in c:\\users\\user\\appdata\\local\\programs\\python\\python39\\lib\\site-packages (from jsonschema>=2.6->nbformat==5.5.0->open3d==0.16.0->mmdet3d==1.2.0) (0.30.2)\n",
      "Requirement already satisfied: rpds-py>=0.7.1 in c:\\users\\user\\appdata\\local\\programs\\python\\python39\\lib\\site-packages (from jsonschema>=2.6->nbformat==5.5.0->open3d==0.16.0->mmdet3d==1.2.0) (0.10.2)\n",
      "Requirement already satisfied: pyasn1<0.6.0,>=0.4.6 in c:\\users\\user\\appdata\\local\\programs\\python\\python39\\lib\\site-packages (from pyasn1-modules>=0.2.1->google-auth<3,>=1.6.3->tensorboard->mmdet3d==1.2.0) (0.5.0)\n",
      "Requirement already satisfied: oauthlib>=3.0.0 in c:\\users\\user\\appdata\\local\\programs\\python\\python39\\lib\\site-packages (from requests-oauthlib>=0.7.0->google-auth-oauthlib<1.1,>=0.5->tensorboard->mmdet3d==1.2.0) (3.2.2)\n",
      "Requirement already satisfied: debugpy>=1.6.5 in c:\\users\\user\\appdata\\roaming\\python\\python39\\site-packages (from ipykernel->jupyter->nuscenes-devkit->mmdet3d==1.2.0) (1.7.0)\n",
      "Requirement already satisfied: jupyter-client>=6.1.12 in c:\\users\\user\\appdata\\roaming\\python\\python39\\site-packages (from ipykernel->jupyter->nuscenes-devkit->mmdet3d==1.2.0) (8.3.1)\n",
      "Requirement already satisfied: psutil in c:\\users\\user\\appdata\\roaming\\python\\python39\\site-packages (from ipykernel->jupyter->nuscenes-devkit->mmdet3d==1.2.0) (5.9.5)\n",
      "Requirement already satisfied: pyzmq>=20 in c:\\users\\user\\appdata\\roaming\\python\\python39\\site-packages (from ipykernel->jupyter->nuscenes-devkit->mmdet3d==1.2.0) (25.1.1)\n",
      "Requirement already satisfied: tornado>=6.1 in c:\\users\\user\\appdata\\roaming\\python\\python39\\site-packages (from ipykernel->jupyter->nuscenes-devkit->mmdet3d==1.2.0) (6.3.3)\n",
      "Requirement already satisfied: pywin32>=300 in c:\\users\\user\\appdata\\roaming\\python\\python39\\site-packages (from jupyter_core->nbformat==5.5.0->open3d==0.16.0->mmdet3d==1.2.0) (306)\n",
      "Requirement already satisfied: beautifulsoup4 in c:\\users\\user\\appdata\\local\\programs\\python\\python39\\lib\\site-packages (from nbconvert->jupyter->nuscenes-devkit->mmdet3d==1.2.0) (4.12.2)\n",
      "Requirement already satisfied: bleach in c:\\users\\user\\appdata\\local\\programs\\python\\python39\\lib\\site-packages (from nbconvert->jupyter->nuscenes-devkit->mmdet3d==1.2.0) (6.0.0)\n",
      "Requirement already satisfied: defusedxml in c:\\users\\user\\appdata\\local\\programs\\python\\python39\\lib\\site-packages (from nbconvert->jupyter->nuscenes-devkit->mmdet3d==1.2.0) (0.7.1)\n",
      "Requirement already satisfied: jupyterlab-pygments in c:\\users\\user\\appdata\\local\\programs\\python\\python39\\lib\\site-packages (from nbconvert->jupyter->nuscenes-devkit->mmdet3d==1.2.0) (0.2.2)\n",
      "Requirement already satisfied: mistune<3,>=2.0.3 in c:\\users\\user\\appdata\\local\\programs\\python\\python39\\lib\\site-packages (from nbconvert->jupyter->nuscenes-devkit->mmdet3d==1.2.0) (2.0.5)\n",
      "Requirement already satisfied: nbclient>=0.5.0 in c:\\users\\user\\appdata\\local\\programs\\python\\python39\\lib\\site-packages (from nbconvert->jupyter->nuscenes-devkit->mmdet3d==1.2.0) (0.8.0)\n",
      "Requirement already satisfied: pandocfilters>=1.4.1 in c:\\users\\user\\appdata\\local\\programs\\python\\python39\\lib\\site-packages (from nbconvert->jupyter->nuscenes-devkit->mmdet3d==1.2.0) (1.5.0)\n",
      "Requirement already satisfied: tinycss2 in c:\\users\\user\\appdata\\local\\programs\\python\\python39\\lib\\site-packages (from nbconvert->jupyter->nuscenes-devkit->mmdet3d==1.2.0) (1.2.1)\n",
      "Requirement already satisfied: jupyter-server<3,>=2.4.0 in c:\\users\\user\\appdata\\local\\programs\\python\\python39\\lib\\site-packages (from notebook->jupyter->nuscenes-devkit->mmdet3d==1.2.0) (2.7.3)\n",
      "Requirement already satisfied: jupyterlab-server<3,>=2.22.1 in c:\\users\\user\\appdata\\local\\programs\\python\\python39\\lib\\site-packages (from notebook->jupyter->nuscenes-devkit->mmdet3d==1.2.0) (2.24.0)\n",
      "Requirement already satisfied: jupyterlab<5,>=4.0.2 in c:\\users\\user\\appdata\\local\\programs\\python\\python39\\lib\\site-packages (from notebook->jupyter->nuscenes-devkit->mmdet3d==1.2.0) (4.0.5)\n",
      "Requirement already satisfied: notebook-shim<0.3,>=0.2 in c:\\users\\user\\appdata\\local\\programs\\python\\python39\\lib\\site-packages (from notebook->jupyter->nuscenes-devkit->mmdet3d==1.2.0) (0.2.3)\n",
      "Requirement already satisfied: ipython-genutils in c:\\users\\user\\appdata\\local\\programs\\python\\python39\\lib\\site-packages (from qtconsole->jupyter->nuscenes-devkit->mmdet3d==1.2.0) (0.2.0)\n",
      "Requirement already satisfied: qtpy>=2.4.0 in c:\\users\\user\\appdata\\local\\programs\\python\\python39\\lib\\site-packages (from qtconsole->jupyter->nuscenes-devkit->mmdet3d==1.2.0) (2.4.0)\n",
      "Requirement already satisfied: parso<0.9.0,>=0.8.3 in c:\\users\\user\\appdata\\roaming\\python\\python39\\site-packages (from jedi>=0.16->ipython>=6.1.0->ipywidgets>=7.6.0->open3d==0.16.0->mmdet3d==1.2.0) (0.8.3)\n",
      "Requirement already satisfied: anyio>=3.1.0 in c:\\users\\user\\appdata\\local\\programs\\python\\python39\\lib\\site-packages (from jupyter-server<3,>=2.4.0->notebook->jupyter->nuscenes-devkit->mmdet3d==1.2.0) (4.0.0)\n",
      "Requirement already satisfied: argon2-cffi in c:\\users\\user\\appdata\\local\\programs\\python\\python39\\lib\\site-packages (from jupyter-server<3,>=2.4.0->notebook->jupyter->nuscenes-devkit->mmdet3d==1.2.0) (23.1.0)\n",
      "Requirement already satisfied: jupyter-events>=0.6.0 in c:\\users\\user\\appdata\\local\\programs\\python\\python39\\lib\\site-packages (from jupyter-server<3,>=2.4.0->notebook->jupyter->nuscenes-devkit->mmdet3d==1.2.0) (0.7.0)\n",
      "Requirement already satisfied: jupyter-server-terminals in c:\\users\\user\\appdata\\local\\programs\\python\\python39\\lib\\site-packages (from jupyter-server<3,>=2.4.0->notebook->jupyter->nuscenes-devkit->mmdet3d==1.2.0) (0.4.4)\n",
      "Requirement already satisfied: overrides in c:\\users\\user\\appdata\\local\\programs\\python\\python39\\lib\\site-packages (from jupyter-server<3,>=2.4.0->notebook->jupyter->nuscenes-devkit->mmdet3d==1.2.0) (7.4.0)\n",
      "Requirement already satisfied: prometheus-client in c:\\users\\user\\appdata\\local\\programs\\python\\python39\\lib\\site-packages (from jupyter-server<3,>=2.4.0->notebook->jupyter->nuscenes-devkit->mmdet3d==1.2.0) (0.17.1)\n",
      "Requirement already satisfied: pywinpty in c:\\users\\user\\appdata\\local\\programs\\python\\python39\\lib\\site-packages (from jupyter-server<3,>=2.4.0->notebook->jupyter->nuscenes-devkit->mmdet3d==1.2.0) (2.0.11)\n",
      "Requirement already satisfied: send2trash>=1.8.2 in c:\\users\\user\\appdata\\local\\programs\\python\\python39\\lib\\site-packages (from jupyter-server<3,>=2.4.0->notebook->jupyter->nuscenes-devkit->mmdet3d==1.2.0) (1.8.2)\n",
      "Requirement already satisfied: terminado>=0.8.3 in c:\\users\\user\\appdata\\local\\programs\\python\\python39\\lib\\site-packages (from jupyter-server<3,>=2.4.0->notebook->jupyter->nuscenes-devkit->mmdet3d==1.2.0) (0.17.1)\n",
      "Requirement already satisfied: websocket-client in c:\\users\\user\\appdata\\local\\programs\\python\\python39\\lib\\site-packages (from jupyter-server<3,>=2.4.0->notebook->jupyter->nuscenes-devkit->mmdet3d==1.2.0) (1.6.3)\n",
      "Requirement already satisfied: async-lru>=1.0.0 in c:\\users\\user\\appdata\\local\\programs\\python\\python39\\lib\\site-packages (from jupyterlab<5,>=4.0.2->notebook->jupyter->nuscenes-devkit->mmdet3d==1.2.0) (2.0.4)\n",
      "Requirement already satisfied: jupyter-lsp>=2.0.0 in c:\\users\\user\\appdata\\local\\programs\\python\\python39\\lib\\site-packages (from jupyterlab<5,>=4.0.2->notebook->jupyter->nuscenes-devkit->mmdet3d==1.2.0) (2.2.0)\n",
      "Requirement already satisfied: babel>=2.10 in c:\\users\\user\\appdata\\local\\programs\\python\\python39\\lib\\site-packages (from jupyterlab-server<3,>=2.22.1->notebook->jupyter->nuscenes-devkit->mmdet3d==1.2.0) (2.12.1)\n",
      "Requirement already satisfied: json5>=0.9.0 in c:\\users\\user\\appdata\\local\\programs\\python\\python39\\lib\\site-packages (from jupyterlab-server<3,>=2.22.1->notebook->jupyter->nuscenes-devkit->mmdet3d==1.2.0) (0.9.14)\n",
      "Requirement already satisfied: wcwidth in c:\\users\\user\\appdata\\roaming\\python\\python39\\site-packages (from prompt-toolkit!=3.0.37,<3.1.0,>=3.0.30->ipython>=6.1.0->ipywidgets>=7.6.0->open3d==0.16.0->mmdet3d==1.2.0) (0.2.6)\n",
      "Requirement already satisfied: soupsieve>1.2 in c:\\users\\user\\appdata\\local\\programs\\python\\python39\\lib\\site-packages (from beautifulsoup4->nbconvert->jupyter->nuscenes-devkit->mmdet3d==1.2.0) (2.5)\n",
      "Requirement already satisfied: webencodings in c:\\users\\user\\appdata\\local\\programs\\python\\python39\\lib\\site-packages (from bleach->nbconvert->jupyter->nuscenes-devkit->mmdet3d==1.2.0) (0.5.1)\n",
      "Requirement already satisfied: executing>=1.2.0 in c:\\users\\user\\appdata\\roaming\\python\\python39\\site-packages (from stack-data->ipython>=6.1.0->ipywidgets>=7.6.0->open3d==0.16.0->mmdet3d==1.2.0) (1.2.0)\n",
      "Requirement already satisfied: asttokens>=2.1.0 in c:\\users\\user\\appdata\\roaming\\python\\python39\\site-packages (from stack-data->ipython>=6.1.0->ipywidgets>=7.6.0->open3d==0.16.0->mmdet3d==1.2.0) (2.4.0)\n",
      "Requirement already satisfied: pure-eval in c:\\users\\user\\appdata\\roaming\\python\\python39\\site-packages (from stack-data->ipython>=6.1.0->ipywidgets>=7.6.0->open3d==0.16.0->mmdet3d==1.2.0) (0.2.2)\n",
      "Requirement already satisfied: sniffio>=1.1 in c:\\users\\user\\appdata\\local\\programs\\python\\python39\\lib\\site-packages (from anyio>=3.1.0->jupyter-server<3,>=2.4.0->notebook->jupyter->nuscenes-devkit->mmdet3d==1.2.0) (1.3.0)\n",
      "Requirement already satisfied: python-json-logger>=2.0.4 in c:\\users\\user\\appdata\\local\\programs\\python\\python39\\lib\\site-packages (from jupyter-events>=0.6.0->jupyter-server<3,>=2.4.0->notebook->jupyter->nuscenes-devkit->mmdet3d==1.2.0) (2.0.7)\n",
      "Requirement already satisfied: pyyaml>=5.3 in c:\\users\\user\\appdata\\local\\programs\\python\\python39\\lib\\site-packages (from jupyter-events>=0.6.0->jupyter-server<3,>=2.4.0->notebook->jupyter->nuscenes-devkit->mmdet3d==1.2.0) (6.0.1)\n",
      "Requirement already satisfied: rfc3339-validator in c:\\users\\user\\appdata\\local\\programs\\python\\python39\\lib\\site-packages (from jupyter-events>=0.6.0->jupyter-server<3,>=2.4.0->notebook->jupyter->nuscenes-devkit->mmdet3d==1.2.0) (0.1.4)\n",
      "Requirement already satisfied: rfc3986-validator>=0.1.1 in c:\\users\\user\\appdata\\local\\programs\\python\\python39\\lib\\site-packages (from jupyter-events>=0.6.0->jupyter-server<3,>=2.4.0->notebook->jupyter->nuscenes-devkit->mmdet3d==1.2.0) (0.1.1)\n",
      "Requirement already satisfied: argon2-cffi-bindings in c:\\users\\user\\appdata\\local\\programs\\python\\python39\\lib\\site-packages (from argon2-cffi->jupyter-server<3,>=2.4.0->notebook->jupyter->nuscenes-devkit->mmdet3d==1.2.0) (21.2.0)\n",
      "Requirement already satisfied: fqdn in c:\\users\\user\\appdata\\local\\programs\\python\\python39\\lib\\site-packages (from jsonschema>=2.6->nbformat==5.5.0->open3d==0.16.0->mmdet3d==1.2.0) (1.5.1)\n",
      "Requirement already satisfied: isoduration in c:\\users\\user\\appdata\\local\\programs\\python\\python39\\lib\\site-packages (from jsonschema>=2.6->nbformat==5.5.0->open3d==0.16.0->mmdet3d==1.2.0) (20.11.0)\n",
      "Requirement already satisfied: jsonpointer>1.13 in c:\\users\\user\\appdata\\local\\programs\\python\\python39\\lib\\site-packages (from jsonschema>=2.6->nbformat==5.5.0->open3d==0.16.0->mmdet3d==1.2.0) (2.4)\n",
      "Requirement already satisfied: uri-template in c:\\users\\user\\appdata\\local\\programs\\python\\python39\\lib\\site-packages (from jsonschema>=2.6->nbformat==5.5.0->open3d==0.16.0->mmdet3d==1.2.0) (1.3.0)\n",
      "Requirement already satisfied: webcolors>=1.11 in c:\\users\\user\\appdata\\local\\programs\\python\\python39\\lib\\site-packages (from jsonschema>=2.6->nbformat==5.5.0->open3d==0.16.0->mmdet3d==1.2.0) (1.13)\n",
      "Requirement already satisfied: cffi>=1.0.1 in c:\\users\\user\\appdata\\local\\programs\\python\\python39\\lib\\site-packages (from argon2-cffi-bindings->argon2-cffi->jupyter-server<3,>=2.4.0->notebook->jupyter->nuscenes-devkit->mmdet3d==1.2.0) (1.15.1)\n",
      "Requirement already satisfied: pycparser in c:\\users\\user\\appdata\\local\\programs\\python\\python39\\lib\\site-packages (from cffi>=1.0.1->argon2-cffi-bindings->argon2-cffi->jupyter-server<3,>=2.4.0->notebook->jupyter->nuscenes-devkit->mmdet3d==1.2.0) (2.21)\n",
      "Requirement already satisfied: arrow>=0.15.0 in c:\\users\\user\\appdata\\local\\programs\\python\\python39\\lib\\site-packages (from isoduration->jsonschema>=2.6->nbformat==5.5.0->open3d==0.16.0->mmdet3d==1.2.0) (1.2.3)\n",
      "Installing collected packages: mmdet3d\n",
      "  Attempting uninstall: mmdet3d\n",
      "    Found existing installation: mmdet3d 1.2.0\n",
      "    Uninstalling mmdet3d-1.2.0:\n",
      "      Successfully uninstalled mmdet3d-1.2.0\n",
      "  Running setup.py develop for mmdet3d\n",
      "Successfully installed mmdet3d\n"
     ]
    }
   ],
   "source": [
    "# %%\n",
    "!pip3 install openmim\n",
    "!mim install mmcv-full==1.7.0\n",
    "\n",
    "# %%\n",
    "!mim install mmdet\n",
    "\n",
    "!git clone https://github.com/open-mmlab/mmsegmentation.git\n",
    "%cd mmsegmentation\n",
    "!pip install -e .\n",
    "%cd ..\n",
    "\n",
    "# %%\n",
    "!git clone https://github.com/open-mmlab/mmdetection3d.git\n",
    "%cd mmdetection3d\n",
    "!pip install -e .\n",
    "\n",
    "# %%\n"
   ]
  },
  {
   "cell_type": "code",
   "execution_count": null,
   "metadata": {},
   "outputs": [],
   "source": []
  },
  {
   "cell_type": "markdown",
   "metadata": {},
   "source": [
    "## We will compare the case with and without pre-process"
   ]
  },
  {
   "cell_type": "markdown",
   "metadata": {},
   "source": [
    "### Command Description\n",
    "\n",
    "**!python demo/pcd_demo.py ../000000.bin ../pointpillars_hv_secfpn_8xb6-160e_kitti-3d-car.py ../hv_pointpillars_secfpn_6x8_160e_kitti-3d-car_20220331_134606-d42d15ed.pth --show**\n",
    "\n",
    "**pcd_demo.py:** Script to run a demo of point cloud data.\n",
    "\n",
    "**000000.bin:** Point cloud data to be inferred. Can be changed to other bin files.\n",
    "\n",
    "**pointpillars_hv_secfpn_8xb6-160e_kitti-3d-car.py:** configuration file for the model to be used.\n",
    "\n",
    "**hv_pointpillars_secfpn_6x8_160e_kitti-3d-car_20220331_134606-d42d15ed.pth:** checkpoint file containing weights for the learned model.\n",
    "\n",
    "**--show:** Option to visualize and display inference results.\n",
    "\n",
    "\n",
    "\n",
    "With this command, object detection is performed on the specified point cloud data and the results are displayed on the screen."
   ]
  },
  {
   "cell_type": "markdown",
   "metadata": {},
   "source": [
    "### This makes the preprocessed file an input"
   ]
  },
  {
   "cell_type": "code",
   "execution_count": 3,
   "metadata": {},
   "outputs": [
    {
     "name": "stderr",
     "output_type": "stream",
     "text": [
      "python: can't open file 'c:\\Users\\user\\Code\\detection\\demo\\pcd_demo.py': [Errno 2] No such file or directory\n"
     ]
    }
   ],
   "source": [
    "!python demo/pcd_demo.py ../filtered/filtered_points.bin ../pointpillars_hv_secfpn_8xb6-160e_kitti-3d-car.py ../hv_pointpillars_secfpn_6x8_160e_kitti-3d-car_20220331_134606-d42d15ed.pth --show\n"
   ]
  },
  {
   "cell_type": "markdown",
   "metadata": {},
   "source": [
    "### This takes as input a file that has not been preprocessed."
   ]
  },
  {
   "cell_type": "code",
   "execution_count": null,
   "metadata": {},
   "outputs": [
    {
     "name": "stdout",
     "output_type": "stream",
     "text": [
      "Loads checkpoint by local backend from path: ../hv_pointpillars_secfpn_6x8_160e_kitti-3d-car_20220331_134606-d42d15ed.pth\n"
     ]
    },
    {
     "name": "stderr",
     "output_type": "stream",
     "text": [
      "c:\\users\\user\\code\\presentation\\mmdetection3d\\mmdet3d\\models\\dense_heads\\anchor3d_head.py:94: UserWarning: dir_offset and dir_limit_offset will be depressed and be incorporated into box coder in the future\n",
      "  warnings.warn(\n",
      "c:\\Users\\user\\AppData\\Local\\Programs\\Python\\Python39\\lib\\site-packages\\mmengine\\visualization\\visualizer.py:196: UserWarning: Failed to add <class 'mmengine.visualization.vis_backend.LocalVisBackend'>, please provide the `save_dir` argument.\n",
      "  warnings.warn(f'Failed to add {vis_backend.__class__}, '\n",
      "c:\\Users\\user\\AppData\\Local\\Programs\\Python\\Python39\\lib\\site-packages\\torch\\functional.py:504: UserWarning: torch.meshgrid: in an upcoming release, it will be required to pass the indexing argument. (Triggered internally at C:\\actions-runner\\_work\\pytorch\\pytorch\\builder\\windows\\pytorch\\aten\\src\\ATen\\native\\TensorShape.cpp:3484.)\n",
      "  return _VF.meshgrid(tensors, **kwargs)  # type: ignore[attr-defined]\n"
     ]
    }
   ],
   "source": [
    "!python demo/pcd_demo.py ../000000.bin ../pointpillars_hv_secfpn_8xb6-160e_kitti-3d-car.py ../hv_pointpillars_secfpn_6x8_160e_kitti-3d-car_20220331_134606-d42d15ed.pth --show\n"
   ]
  }
 ],
 "metadata": {
  "kernelspec": {
   "display_name": "Python 3",
   "language": "python",
   "name": "python3"
  },
  "language_info": {
   "codemirror_mode": {
    "name": "ipython",
    "version": 3
   },
   "file_extension": ".py",
   "mimetype": "text/x-python",
   "name": "python",
   "nbconvert_exporter": "python",
   "pygments_lexer": "ipython3",
   "version": "3.9.0"
  },
  "orig_nbformat": 4
 },
 "nbformat": 4,
 "nbformat_minor": 2
}
